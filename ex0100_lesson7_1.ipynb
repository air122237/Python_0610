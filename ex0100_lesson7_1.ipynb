{
 "cells": [
  {
   "cell_type": "code",
   "execution_count": 2,
   "metadata": {},
   "outputs": [
    {
     "data": {
      "text/plain": [
       "(404, 'error')"
      ]
     },
     "execution_count": 2,
     "metadata": {},
     "output_type": "execute_result"
    }
   ],
   "source": [
    "####tuple###\n",
    "\n",
    "\n",
    "\n",
    "#多元素的tuple建立\n",
    "(404,\"error\")"
   ]
  },
  {
   "cell_type": "code",
   "execution_count": 6,
   "metadata": {},
   "outputs": [],
   "source": [
    "#Tuple拆解法\n",
    "\n",
    "def get_tuple():\n",
    "    return (404,\"error\")"
   ]
  },
  {
   "cell_type": "code",
   "execution_count": 8,
   "metadata": {},
   "outputs": [
    {
     "name": "stdout",
     "output_type": "stream",
     "text": [
      "code=404\n",
      "message=error\n"
     ]
    }
   ],
   "source": [
    "#Tuple 拆解\n",
    "(code, message)=get_tuple()\n",
    "print(f\"code={code}\")\n",
    "print(f\"message={message}\")"
   ]
  },
  {
   "cell_type": "code",
   "execution_count": 1,
   "metadata": {},
   "outputs": [
    {
     "name": "stdout",
     "output_type": "stream",
     "text": [
      "type of singledigit_tuple is :<class 'tuple'>\n",
      "(1,)\n"
     ]
    }
   ],
   "source": [
    "#單元素的tuple建立 \n",
    "singledigit_tuple=(1,)\n",
    "\n",
    "print(f\"type of singledigit_tuple is :{type(singledigit_tuple)}\")\n",
    "print(singledigit_tuple)"
   ]
  },
  {
   "cell_type": "code",
   "execution_count": 5,
   "metadata": {},
   "outputs": [
    {
     "name": "stdout",
     "output_type": "stream",
     "text": [
      "<class 'list'>\n"
     ]
    },
    {
     "data": {
      "text/plain": [
       "['a', 'b', 'c', 1, 2, 3]"
      ]
     },
     "execution_count": 5,
     "metadata": {},
     "output_type": "execute_result"
    }
   ],
   "source": [
    "####list###\n",
    "\n",
    "\n",
    "#使用內建Function建立list\n",
    "list()\n",
    "\n",
    "print(list)\n",
    "\n",
    "list(('a','b','c',1,2,3))\n"
   ]
  },
  {
   "cell_type": "code",
   "execution_count": 32,
   "metadata": {},
   "outputs": [
    {
     "name": "stdout",
     "output_type": "stream",
     "text": [
      "stu1=[78, 98, 56, 74, 79]\n",
      "type of stu1-<class 'list'>\n",
      "78\n",
      "98\n",
      "56\n",
      "74\n",
      "79\n",
      "list=[1, 2, 3, 4, 5, 6, 7, 8, 9]\n"
     ]
    }
   ],
   "source": [
    "#使用符號建立list\n",
    "stu1=[78,98,56,74,79]\n",
    "print(f\"stu1={stu1}\")\n",
    "print(f\"type of stu1-{type(stu1)}\")\n",
    "#list is iterable\n",
    "\n",
    "for score in stu1:\n",
    "    print(score)\n",
    "    \n",
    "\n",
    "list(range(1,10))\n",
    "print(f\"list={list(range(1,10))}\")\n"
   ]
  },
  {
   "cell_type": "code",
   "execution_count": 31,
   "metadata": {},
   "outputs": [
    {
     "data": {
      "text/plain": [
       "'a'"
      ]
     },
     "execution_count": 31,
     "metadata": {},
     "output_type": "execute_result"
    }
   ],
   "source": [
    "rangetest=['a',\"c\",\"d\",\"e\",\"g\"]\n",
    "type(rangetest)\n",
    "rangetest[0]"
   ]
  },
  {
   "cell_type": "code",
   "execution_count": 33,
   "metadata": {},
   "outputs": [
    {
     "data": {
      "text/plain": [
       "5"
      ]
     },
     "execution_count": 33,
     "metadata": {},
     "output_type": "execute_result"
    }
   ],
   "source": [
    "#查詢list 內有幾個參考\n",
    "len(rangetest)"
   ]
  },
  {
   "cell_type": "code",
   "execution_count": 37,
   "metadata": {},
   "outputs": [
    {
     "name": "stdout",
     "output_type": "stream",
     "text": [
      "H\n",
      "e\n",
      "l\n",
      "l\n",
      "o\n",
      "w\n",
      "o\n",
      "r\n",
      "d\n"
     ]
    }
   ],
   "source": [
    "#loop iterable\n",
    "for h in \"Helloword\" :\n",
    "    print(h)"
   ]
  },
  {
   "cell_type": "code",
   "execution_count": 39,
   "metadata": {},
   "outputs": [
    {
     "data": {
      "text/plain": [
       "['H', 'e', 'l', 'l', 'o', 'W', 'o', 'r', 'd']"
      ]
     },
     "execution_count": 39,
     "metadata": {},
     "output_type": "execute_result"
    }
   ],
   "source": [
    "words=list(\"HelloWord\")\n",
    "words"
   ]
  },
  {
   "cell_type": "code",
   "execution_count": 44,
   "metadata": {},
   "outputs": [
    {
     "name": "stdout",
     "output_type": "stream",
     "text": [
      "['H', 'e', 'l', 'l', 'o']\n",
      "['o', 'W', 'o', 'r']\n",
      "['o', 'W', 'o', 'r', 'd']\n",
      "['H', 'e', 'l', 'l', 'o']\n"
     ]
    }
   ],
   "source": [
    "#slice 切割\n",
    "print(words[0:5])\n",
    "\n",
    "print(words[-5:-1])  #-1 就會不顯示-1，\n",
    "print(words[-5:])\n",
    "\n",
    "print(words[:5])\n",
    "\n"
   ]
  },
  {
   "cell_type": "code",
   "execution_count": 63,
   "metadata": {},
   "outputs": [
    {
     "name": "stdout",
     "output_type": "stream",
     "text": [
      "NBspec=[['筆電', '桌機'], ['Apple', 'Asus', 'Acer', 'Dell', 'HP'], ['AMD', 'Intel', 'Arm', 'Quacomm']]\n",
      "<class 'list'>\n",
      "<class 'list'>\n",
      "<class 'str'>\n"
     ]
    }
   ],
   "source": [
    "nb=['筆電','桌機']\n",
    "brand=['Apple','Asus','Acer','Dell','HP']\n",
    "CPU=['AMD','Intel','Arm','Quacomm']\n",
    "\n",
    "NBspec=[nb,brand,CPU]\n",
    "\n",
    "print (f\"NBspec={NBspec}\")\n",
    "\n",
    "\n",
    "\n",
    "print(type(NBspec))\n",
    "print(type(NBspec[1]))\n",
    "print(type(NBspec[1][0]))\n"
   ]
  },
  {
   "cell_type": "code",
   "execution_count": 50,
   "metadata": {},
   "outputs": [
    {
     "name": "stdout",
     "output_type": "stream",
     "text": [
      "筆電\n",
      "Apple\n",
      "AMD\n",
      "筆電\n",
      "Apple\n",
      "AMD\n"
     ]
    }
   ],
   "source": [
    "print(NBspec[0][0])\n",
    "print(NBspec[1][0])\n",
    "print(NBspec[2][0])\n",
    "\n",
    "for i in range(0,3):\n",
    "    print(NBspec[i][0])"
   ]
  },
  {
   "cell_type": "code",
   "execution_count": 71,
   "metadata": {},
   "outputs": [
    {
     "name": "stdout",
     "output_type": "stream",
     "text": [
      "[97, 98, 60, 50, 84, 51, 63, 50, 84, 87, 56, 56, 83, 83, 50, 100, 92, 85, 90, 74, 53, 88, 81, 61, 79, 80, 91, 68, 55, 96, 86, 94, 71, 69, 68, 64, 66, 74, 98, 93, 74, 98, 63, 92, 94, 82, 76, 89, 57, 76]\n"
     ]
    }
   ],
   "source": [
    "import random\n",
    "\n",
    "stu1=list()\n",
    "\n",
    "for i in range(50):\n",
    "    stu1.append(random.randint(50,100))\n",
    "\n",
    "print(stu1)"
   ]
  },
  {
   "cell_type": "code",
   "execution_count": 89,
   "metadata": {},
   "outputs": [
    {
     "data": {
      "text/plain": [
       "[[85, 69, 86, 71, 54],\n",
       " [60, 71, 81, 84, 70],\n",
       " [80, 55, 86, 61, 94],\n",
       " [70, 79, 53, 85, 57],\n",
       " [87, 82, 89, 79, 88],\n",
       " [63, 76, 63, 77, 88],\n",
       " [59, 52, 96, 80, 83],\n",
       " [87, 91, 82, 56, 67],\n",
       " [88, 53, 74, 62, 71],\n",
       " [97, 63, 86, 80, 96],\n",
       " [97, 74, 98, 79, 82],\n",
       " [66, 76, 69, 97, 90],\n",
       " [83, 72, 58, 59, 58],\n",
       " [75, 50, 83, 65, 57],\n",
       " [71, 86, 80, 50, 61],\n",
       " [81, 81, 98, 96, 66],\n",
       " [84, 86, 100, 100, 78],\n",
       " [51, 77, 53, 67, 62],\n",
       " [51, 65, 60, 91, 96],\n",
       " [81, 72, 92, 83, 51],\n",
       " [88, 98, 87, 63, 55],\n",
       " [93, 98, 73, 80, 66],\n",
       " [73, 90, 90, 93, 54],\n",
       " [73, 61, 84, 51, 59],\n",
       " [69, 72, 72, 62, 100],\n",
       " [96, 99, 68, 53, 90],\n",
       " [81, 71, 82, 75, 92],\n",
       " [85, 55, 80, 87, 63],\n",
       " [66, 80, 57, 61, 66],\n",
       " [50, 60, 92, 77, 93],\n",
       " [68, 99, 80, 96, 56],\n",
       " [93, 59, 55, 86, 75],\n",
       " [86, 84, 95, 97, 89],\n",
       " [91, 58, 55, 91, 56],\n",
       " [92, 54, 95, 76, 70],\n",
       " [58, 60, 63, 72, 75],\n",
       " [61, 68, 98, 99, 89],\n",
       " [67, 83, 68, 54, 72],\n",
       " [96, 69, 55, 58, 78],\n",
       " [60, 70, 59, 60, 65],\n",
       " [92, 62, 64, 82, 89],\n",
       " [92, 64, 99, 73, 60],\n",
       " [96, 72, 63, 97, 76],\n",
       " [63, 78, 74, 66, 90],\n",
       " [62, 69, 55, 58, 58],\n",
       " [53, 56, 70, 61, 66],\n",
       " [84, 63, 84, 59, 99],\n",
       " [83, 50, 83, 69, 55],\n",
       " [100, 81, 50, 51, 95],\n",
       " [50, 57, 72, 87, 75]]"
      ]
     },
     "execution_count": 89,
     "metadata": {},
     "output_type": "execute_result"
    }
   ],
   "source": [
    "students=[]\n",
    "for _ in range(50):\n",
    "    stu=list()\n",
    "    for _ in range(5):\n",
    "        stu.append(random.randint(50,100))\n",
    "    students.append(stu)\n",
    "students\n",
    "\n",
    "\n"
   ]
  },
  {
   "cell_type": "code",
   "execution_count": null,
   "metadata": {},
   "outputs": [],
   "source": []
  }
 ],
 "metadata": {
  "kernelspec": {
   "display_name": "Python 3",
   "language": "python",
   "name": "python3"
  },
  "language_info": {
   "codemirror_mode": {
    "name": "ipython",
    "version": 3
   },
   "file_extension": ".py",
   "mimetype": "text/x-python",
   "name": "python",
   "nbconvert_exporter": "python",
   "pygments_lexer": "ipython3",
   "version": "3.10.8"
  },
  "orig_nbformat": 4
 },
 "nbformat": 4,
 "nbformat_minor": 2
}
