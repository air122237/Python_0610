{
 "cells": [
  {
   "cell_type": "code",
   "execution_count": 57,
   "metadata": {},
   "outputs": [
    {
     "name": "stdout",
     "output_type": "stream",
     "text": [
      "Hello Worlsd!\n"
     ]
    }
   ],
   "source": [
    "print('Hello Worlsd!')"
   ]
  },
  {
   "cell_type": "code",
   "execution_count": 58,
   "metadata": {},
   "outputs": [
    {
     "data": {
      "text/plain": [
       "95"
      ]
     },
     "execution_count": 58,
     "metadata": {},
     "output_type": "execute_result"
    }
   ],
   "source": [
    "#賦值給a, b\n",
    "a=95\n",
    "#顯示a\n",
    "a"
   ]
  },
  {
   "cell_type": "code",
   "execution_count": 59,
   "metadata": {},
   "outputs": [
    {
     "name": "stdout",
     "output_type": "stream",
     "text": [
      "95\n"
     ]
    },
    {
     "data": {
      "text/plain": [
       "bool"
      ]
     },
     "execution_count": 59,
     "metadata": {},
     "output_type": "execute_result"
    }
   ],
   "source": [
    "print(a)\n",
    "'''這邊有問題要注意，因為執行儲存格(CTRL+ALT+ENTER)沒有存到上一個儲存格，\n",
    "所以如果沒有每次都執行全部儲存值，就不一定會有上一個儲存格的執行值'''\n",
    "\n",
    "#賦值給a, b\n",
    "a = 78\n",
    "b = 98\n",
    "b = 98.0\n",
    "b = '98'\n",
    "b = True\n",
    "\n",
    "\n",
    "\n",
    "#show a\n",
    "a\n",
    "#show type of variabl b\n",
    "type(b)"
   ]
  },
  {
   "cell_type": "code",
   "execution_count": 60,
   "metadata": {},
   "outputs": [
    {
     "name": "stdout",
     "output_type": "stream",
     "text": [
      "2+3*4= 14 \n",
      " (2+3)*4= 20\n"
     ]
    },
    {
     "data": {
      "text/plain": [
       "6"
      ]
     },
     "execution_count": 60,
     "metadata": {},
     "output_type": "execute_result"
    }
   ],
   "source": [
    "2+3*4 #做了兩件事\n",
    "\n",
    "#運算子的priority\n",
    "#()>**>±>'*/%//'>'+ -'>=\n",
    "\n",
    "print('2+3*4=',2+3*4,'\\n','(2+3)*4=',(2+3)*4)\n",
    "\n",
    "value=2*(1+2)**2-2**2*3\n",
    "value\n"
   ]
  },
  {
   "cell_type": "code",
   "execution_count": 61,
   "metadata": {},
   "outputs": [
    {
     "name": "stdout",
     "output_type": "stream",
     "text": [
      "a= 3\n",
      "b= 3.0\n",
      "a= 3\n",
      "c= 6.0\n",
      "c=a+int(b)= 6\n",
      "c= 6.0\n",
      "c= 6\n",
      "float(a)= 3.0\n"
     ]
    }
   ],
   "source": [
    "a=3\n",
    "print('a=',a)\n",
    "b=3.0\n",
    "print('b=',b)\n",
    "c=a+b #整數+浮點數=浮點數\n",
    "print('a=',a)\n",
    "print('c=',c)\n",
    "\n",
    "c=a+int(b) #先將B轉為整數\n",
    "print('c=a+int(b)=',c)\n",
    "\n",
    "c=a+b\n",
    "print('c=',c)\n",
    "c=int(c) #運算後再轉為整數\n",
    "print('c=',c)\n",
    "\n",
    "a=3\n",
    "a=float(a)\n",
    "print('float(a)=',a)\n",
    "\n"
   ]
  },
  {
   "cell_type": "code",
   "execution_count": 56,
   "metadata": {},
   "outputs": [
    {
     "ename": "TypeError",
     "evalue": "unsupported operand type(s) for +: 'int' and 'str'",
     "output_type": "error",
     "traceback": [
      "\u001b[0;31m---------------------------------------------------------------------------\u001b[0m",
      "\u001b[0;31mTypeError\u001b[0m                                 Traceback (most recent call last)",
      "Cell \u001b[0;32mIn[56], line 1\u001b[0m\n\u001b[0;32m----> 1\u001b[0m \u001b[39m5\u001b[39;49m\u001b[39m+\u001b[39;49m\u001b[39m'\u001b[39;49m\u001b[39m5.8\u001b[39;49m\u001b[39m'\u001b[39;49m\n",
      "\u001b[0;31mTypeError\u001b[0m: unsupported operand type(s) for +: 'int' and 'str'"
     ]
    }
   ],
   "source": [
    "#字串與數字 在Python不能相加\n",
    "5+'5.8'"
   ]
  },
  {
   "cell_type": "code",
   "execution_count": 62,
   "metadata": {},
   "outputs": [
    {
     "data": {
      "text/plain": [
       "6"
      ]
     },
     "execution_count": 62,
     "metadata": {},
     "output_type": "execute_result"
    }
   ],
   "source": [
    "#字串轉數字\n",
    "3 + int('3')\n"
   ]
  },
  {
   "cell_type": "code",
   "execution_count": 65,
   "metadata": {},
   "outputs": [
    {
     "data": {
      "text/plain": [
       "'33'"
      ]
     },
     "execution_count": 65,
     "metadata": {},
     "output_type": "execute_result"
    }
   ],
   "source": [
    "#數字轉字串\n",
    "str(3) + '3'"
   ]
  },
  {
   "cell_type": "code",
   "execution_count": 66,
   "metadata": {},
   "outputs": [
    {
     "data": {
      "text/plain": [
       "10"
      ]
     },
     "execution_count": 66,
     "metadata": {},
     "output_type": "execute_result"
    }
   ],
   "source": [
    "5+int(float('5.8'))"
   ]
  },
  {
   "cell_type": "code",
   "execution_count": 107,
   "metadata": {},
   "outputs": [
    {
     "name": "stdout",
     "output_type": "stream",
     "text": [
      "3.5\n",
      "4\n",
      "4\n",
      "n1= 3 but type of n1 is  <class 'str'>\n",
      "n2= 5 type of n1 is  <class 'int'>\n",
      "n1= 3 , n2= 5 ;valus of n1 is: 8\n"
     ]
    }
   ],
   "source": [
    "#四捨五入\n",
    "print(round(3.54,1))\n",
    "print(round(3.5))\n",
    "print(round(4.5)) #這個會是 4.49999 所以會變4，強制的話 用import decimal\n",
    "n1=6\n",
    "#input default set as a str type, even though you type in a number\n",
    "n1=input(\"please type a number\")\n",
    "print('n1=',n1,'but type of n1 is ',type(n1))\n",
    "#save and transfer to int directly when input\n",
    "n2=int(input(\"please type a number\"))\n",
    "print('n2=',n2,'type of n1 is ',type(n2))\n",
    "print('n1=',n1,', n2=',n2,';valus of n1 is:',int(n1)+n2)\n"
   ]
  },
  {
   "cell_type": "code",
   "execution_count": 110,
   "metadata": {},
   "outputs": [
    {
     "name": "stdout",
     "output_type": "stream",
     "text": [
      "\n",
      "n3的值是 7\n",
      "n3的值是7\n",
      "aaabbb\n"
     ]
    }
   ],
   "source": [
    "#老師範例\n",
    "n1 = int(input(\"請輸入第1個數字:\"))\n",
    "n2 = int(input(\"請輸入第2個數字:\"))\n",
    "n3 = n1 + n2\n",
    "\n",
    "#print變數間預設空格，所以sep= 的用途就是把間隔加入的字元(空白鍵)改掉\n",
    "print()\n",
    "print(\"n3的值是\",n3)\n",
    "print(\"n3的值是\",n3,sep=\"\")\n",
    "\n",
    "#print 預設每次call會換行，end改變end最後的位置加入的字元\n",
    "print(\"aaa\",end=\"\")\n",
    "print(\"bbb\")"
   ]
  }
 ],
 "metadata": {
  "kernelspec": {
   "display_name": "Python 3",
   "language": "python",
   "name": "python3"
  },
  "language_info": {
   "codemirror_mode": {
    "name": "ipython",
    "version": 3
   },
   "file_extension": ".py",
   "mimetype": "text/x-python",
   "name": "python",
   "nbconvert_exporter": "python",
   "pygments_lexer": "ipython3",
   "version": "3.10.8"
  },
  "orig_nbformat": 4
 },
 "nbformat": 4,
 "nbformat_minor": 2
}
