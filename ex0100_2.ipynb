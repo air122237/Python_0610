{
 "cells": [
  {
   "cell_type": "code",
   "execution_count": 21,
   "metadata": {},
   "outputs": [
    {
     "name": "stdout",
     "output_type": "stream",
     "text": [
      "Hello Worlsd!\n"
     ]
    }
   ],
   "source": [
    "print('Hello Worlsd!')"
   ]
  },
  {
   "cell_type": "code",
   "execution_count": 24,
   "metadata": {},
   "outputs": [
    {
     "data": {
      "text/plain": [
       "95"
      ]
     },
     "execution_count": 24,
     "metadata": {},
     "output_type": "execute_result"
    }
   ],
   "source": [
    "#賦值給a, b\n",
    "a=95\n",
    "#顯示a\n",
    "a"
   ]
  },
  {
   "cell_type": "code",
   "execution_count": 33,
   "metadata": {},
   "outputs": [
    {
     "name": "stdout",
     "output_type": "stream",
     "text": [
      "78\n"
     ]
    },
    {
     "data": {
      "text/plain": [
       "bool"
      ]
     },
     "execution_count": 33,
     "metadata": {},
     "output_type": "execute_result"
    }
   ],
   "source": [
    "print(a)\n",
    "'''這邊有問題要注意，因為執行儲存格(CTRL+ALT+ENTER)沒有存到上一個儲存格，\n",
    "所以如果沒有每次都執行全部儲存值，就不一定會有上一個儲存格的執行值'''\n",
    "\n",
    "#賦值給a, b\n",
    "a = 78\n",
    "b = 98\n",
    "b = 98.0\n",
    "b = '98'\n",
    "b = True\n",
    "\n",
    "\n",
    "\n",
    "#show a\n",
    "a\n",
    "#show type of variabl b\n",
    "type(b)"
   ]
  },
  {
   "cell_type": "code",
   "execution_count": 42,
   "metadata": {},
   "outputs": [
    {
     "name": "stdout",
     "output_type": "stream",
     "text": [
      "2+3*4= 14 \n",
      " (2+3)*4= 20\n"
     ]
    },
    {
     "data": {
      "text/plain": [
       "6"
      ]
     },
     "execution_count": 42,
     "metadata": {},
     "output_type": "execute_result"
    }
   ],
   "source": [
    "2+3*4 #做了兩件事\n",
    "\n",
    "#運算子的priority\n",
    "#()>**>±>'*/%//'>'+ -'>=\n",
    "\n",
    "print('2+3*4=',2+3*4,'\\n','(2+3)*4=',(2+3)*4)\n",
    "\n",
    "value=2*(1+2)**2-2**2*3\n",
    "value\n"
   ]
  },
  {
   "cell_type": "code",
   "execution_count": 52,
   "metadata": {},
   "outputs": [
    {
     "name": "stdout",
     "output_type": "stream",
     "text": [
      "a= 3\n",
      "b= 3.0\n",
      "a= 3\n",
      "c= 6.0\n",
      "c=a+int(b)= 6\n",
      "c= 6.0\n",
      "c= 6\n",
      "float(a)= 3.0\n"
     ]
    }
   ],
   "source": [
    "a=3\n",
    "print('a=',a)\n",
    "b=3.0\n",
    "print('b=',b)\n",
    "c=a+b #整數+浮點數=浮點數\n",
    "print('a=',a)\n",
    "print('c=',c)\n",
    "\n",
    "c=a+int(b) #先將B轉為整數\n",
    "print('c=a+int(b)=',c)\n",
    "\n",
    "c=a+b\n",
    "print('c=',c)\n",
    "c=int(c) #運算後再轉為整數\n",
    "print('c=',c)\n",
    "\n",
    "a=3\n",
    "a=float(a)\n",
    "print('float(a)=',a)\n",
    "\n"
   ]
  }
 ],
 "metadata": {
  "kernelspec": {
   "display_name": "Python 3",
   "language": "python",
   "name": "python3"
  },
  "language_info": {
   "codemirror_mode": {
    "name": "ipython",
    "version": 3
   },
   "file_extension": ".py",
   "mimetype": "text/x-python",
   "name": "python",
   "nbconvert_exporter": "python",
   "pygments_lexer": "ipython3",
   "version": "3.10.8"
  },
  "orig_nbformat": 4
 },
 "nbformat": 4,
 "nbformat_minor": 2
}
