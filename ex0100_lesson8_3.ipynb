{
 "cells": [
  {
   "cell_type": "code",
   "execution_count": 3,
   "metadata": {},
   "outputs": [
    {
     "ename": "NameError",
     "evalue": "name 'i' is not defined",
     "output_type": "error",
     "traceback": [
      "\u001b[0;31m---------------------------------------------------------------------------\u001b[0m",
      "\u001b[0;31mNameError\u001b[0m                                 Traceback (most recent call last)",
      "Cell \u001b[0;32mIn[3], line 6\u001b[0m\n\u001b[1;32m      4\u001b[0m readlines\u001b[39m=\u001b[39m csv\u001b[39m.\u001b[39mreader(rawdata)\n\u001b[1;32m      5\u001b[0m readlinesdis\u001b[39m=\u001b[39m\u001b[39mlist\u001b[39m(readlines)\n\u001b[0;32m----> 6\u001b[0m cities\u001b[39m=\u001b[39m\u001b[39mset\u001b[39m(readlinesdis[i][\u001b[39m1\u001b[39m] \u001b[39mfor\u001b[39;00m i \u001b[39min\u001b[39;00m readlinesdis[i][\u001b[39m1\u001b[39m])\n\u001b[1;32m      7\u001b[0m \u001b[39mprint\u001b[39m(cities)\n\u001b[1;32m      8\u001b[0m \u001b[39m\"\"\"for item in readlinesdis:\u001b[39;00m\n\u001b[1;32m      9\u001b[0m \u001b[39m    for a in cities:\u001b[39;00m\n\u001b[1;32m     10\u001b[0m \u001b[39m        print(item)\"\"\"\u001b[39;00m\n",
      "\u001b[0;31mNameError\u001b[0m: name 'i' is not defined"
     ]
    }
   ],
   "source": [
    "import csv\n",
    "filename=\"aqx_p_432.csv\"\n",
    "rawdata=open(filename,mode='r',encoding=\"utf-8-sig\",newline='')\n",
    "readlines= csv.reader(rawdata)\n",
    "readlinesdis=list(readlines)\n",
    "cities=set(readlinesdis[i][1] for i in readlinesdis[i][1])\n",
    "print(cities)\n",
    "\"\"\"for item in readlinesdis:\n",
    "    for a in cities:\n",
    "        print(item)\"\"\"\n",
    "\"\"\"for i in cities:\n",
    "    for item in readlinesdis:\n",
    "        print(item)\n",
    "        if item[1] in i:\n",
    "            print(item)\"\"\"\n"
   ]
  },
  {
   "cell_type": "code",
   "execution_count": 31,
   "metadata": {},
   "outputs": [
    {
     "ename": "SyntaxError",
     "evalue": "invalid syntax (3959930503.py, line 2)",
     "output_type": "error",
     "traceback": [
      "\u001b[0;36m  Cell \u001b[0;32mIn[31], line 2\u001b[0;36m\u001b[0m\n\u001b[0;31m    list[][0]\u001b[0m\n\u001b[0m         ^\u001b[0m\n\u001b[0;31mSyntaxError\u001b[0m\u001b[0;31m:\u001b[0m invalid syntax\n"
     ]
    }
   ],
   "source": [
    "list=[[1,2],[3,4]]\n",
    "list[][0]"
   ]
  }
 ],
 "metadata": {
  "kernelspec": {
   "display_name": "Python 3",
   "language": "python",
   "name": "python3"
  },
  "language_info": {
   "codemirror_mode": {
    "name": "ipython",
    "version": 3
   },
   "file_extension": ".py",
   "mimetype": "text/x-python",
   "name": "python",
   "nbconvert_exporter": "python",
   "pygments_lexer": "ipython3",
   "version": "3.10.8"
  },
  "orig_nbformat": 4
 },
 "nbformat": 4,
 "nbformat_minor": 2
}
