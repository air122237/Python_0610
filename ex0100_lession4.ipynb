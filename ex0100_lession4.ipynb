{
 "cells": [
  {
   "cell_type": "code",
   "execution_count": 1,
   "metadata": {},
   "outputs": [
    {
     "name": "stdout",
     "output_type": "stream",
     "text": [
      "hello world\n"
     ]
    }
   ],
   "source": [
    "print('hello world')"
   ]
  },
  {
   "cell_type": "code",
   "execution_count": 14,
   "metadata": {},
   "outputs": [
    {
     "name": "stdout",
     "output_type": "stream",
     "text": [
      "math imported\n",
      "radion= 0.5235987755982989\n",
      "degree(radion)= 30.0\n",
      "==>直角三角形角度為30.0\n"
     ]
    }
   ],
   "source": [
    "import math\n",
    "print('math imported')\n",
    "#trigonometric functions 三角函數(斜邊，對邊，鄰邊)\n",
    "\n",
    "#e=float(input('請輸入斜邊:'))\n",
    "e=5\n",
    "#f=float(input('請輸入對邊:'))\n",
    "f=2.5\n",
    "#g=float(input('請輸入鄰邊:'))\n",
    "#math.sin(x)=f/e\n",
    "#反三角函數arcsin \n",
    "radion = math.asin(f/e)\n",
    "print('radion=',radion)\n",
    "#radion轉degree\n",
    "print('degree(radion)=', round(math.degrees(radion),3))\n",
    "round(math.cos(radion),3)\n",
    "#練習字串差補\n",
    "deg=round(math.degrees(radion),3)\n",
    "print(f\"=>直角三角形角度為{deg}\")"
   ]
  },
  {
   "cell_type": "code",
   "execution_count": 4,
   "metadata": {},
   "outputs": [
    {
     "name": "stdout",
     "output_type": "stream",
     "text": [
      "3==3是True\n",
      "3!=3是False\n"
     ]
    }
   ],
   "source": [
    "#判斷:if\n",
    "\n",
    "#Boolean值透過比較運算子傳出\n",
    "print(f\"3==3是{3==3}\")\n",
    "print(f\"3!=3是{3!=3}\")\n"
   ]
  },
  {
   "cell_type": "code",
   "execution_count": 1,
   "metadata": {},
   "outputs": [
    {
     "name": "stdout",
     "output_type": "stream",
     "text": [
      "Y\n",
      "學生總分為:300\n"
     ]
    }
   ],
   "source": [
    "# if 單向選擇\n",
    "'''學生總分為300\n",
    "有些學生可以加分5%\n",
    "如果加分超過300，則以300為準'''\n",
    "scores=round(int(input(\"請輸入學生分數(最高300分)\")),2)\n",
    "is_add=input(\"學生是否符合加分條件?(y/n)\")\n",
    "#is_add=is_add.lower()，可以先改為小寫\n",
    "print(is_add)\n",
    "if is_add==\"y\" or is_add==\"Y\" :#承第7行，也可移直接判斷兩情況\n",
    "        scores*=1.05\n",
    "        if scores>=300:\n",
    "                scores=300      \n",
    "                \n",
    "\n",
    "print(f\"學生總分為:{scores}\")\n",
    "#if(scores=round(int(input(\"請輸入學生分數(最高300分)\")))):"
   ]
  },
  {
   "cell_type": "code",
   "execution_count": 36,
   "metadata": {},
   "outputs": [
    {
     "name": "stdout",
     "output_type": "stream",
     "text": [
      "fail\n"
     ]
    }
   ],
   "source": [
    "# if 雙向選擇\n",
    "Chinese= int(input(\"請輸入學生國文分數\"))\n",
    "if Chinese <60:\n",
    "    print(\"fail\")\n",
    "else:\n",
    "    print(\"pass\")\n"
   ]
  },
  {
   "cell_type": "code",
   "execution_count": 40,
   "metadata": {},
   "outputs": [
    {
     "name": "stdout",
     "output_type": "stream",
     "text": [
      "fail，加油好嗎\n"
     ]
    }
   ],
   "source": [
    "# if 巢狀雙向選擇\n",
    "science= int(input(\"請輸入學生自然分數\"))\n",
    "if science <60:\n",
    "    print(\"fail，加油好嗎\")\n",
    "else:\n",
    "    print(\"pass\",end=\"；\")\n",
    "    if science <80:\n",
    "        print(\"優秀\")\n",
    "    else:\n",
    "        print(\"超級好棒棒\")"
   ]
  },
  {
   "cell_type": "code",
   "execution_count": 50,
   "metadata": {},
   "outputs": [
    {
     "name": "stdout",
     "output_type": "stream",
     "text": [
      "優\n"
     ]
    }
   ],
   "source": [
    "# if 多向選擇\n",
    "        #下列為換算成績等級的程式碼，換算的規則如下：\n",
    "\n",
    "        # 90(含)~100分為「優」\n",
    "        # 80(含)~89分為「甲」\n",
    "        # 70(含)~79分為「乙」\n",
    "        # 60(含)~69分為「丙」\n",
    "        # 0(含)~59分為「丁」\n",
    "mathmatic =int(input(\"請輸入分數\"))\n",
    "\n",
    "\n",
    "#錯誤範例\n",
    "\n",
    "'''if mathmatic>=90:\n",
    "    print(\"優\")\n",
    "else:\n",
    "    if mathmatic>=80:\n",
    "        print(\"甲\")\n",
    "    else:\n",
    "        if mathmatic>=70:\n",
    "            print(\"乙\")\n",
    "        else:\n",
    "            if mathmatic>=60:\n",
    "                print(\"丙\")\n",
    "            else:\n",
    "                print(\"丁\")'''\n",
    "\n",
    "#正確範例\n",
    "#遇到第一個 true，跑完true之後，其他都會跳過\n",
    "if mathmatic>=90:\n",
    "    print(\"優\")\n",
    "elif mathmatic>=80:\n",
    "    print(\"甲\")\n",
    "elif mathmatic>=70:\n",
    "    print(\"乙\")\n",
    "elif mathmatic>=60:\n",
    "    print(\"丙\")\n",
    "else:\n",
    "    print(\"丁\")"
   ]
  },
  {
   "cell_type": "code",
   "execution_count": 73,
   "metadata": {},
   "outputs": [
    {
     "name": "stdout",
     "output_type": "stream",
     "text": [
      "中文100分\n"
     ]
    }
   ],
   "source": [
    "#boolean運算值: not非\n",
    "english=round(int(float((input(\"英文分數\")))),5)\n",
    "'''if english==100:\n",
    "    print('中文100分')\n",
    "else:\n",
    "    print('中文沒有100分')\n",
    "'''\n",
    "if not english==100:\n",
    "    print(f'中文沒有100分,只有{english}分')\n",
    "else:\n",
    "    print(\"中文100分\")"
   ]
  },
  {
   "cell_type": "code",
   "execution_count": 80,
   "metadata": {},
   "outputs": [
    {
     "name": "stdout",
     "output_type": "stream",
     "text": [
      "pathetic $0，no award\n"
     ]
    }
   ],
   "source": [
    "#boolean運算值: and同時、or或\n",
    "'''中英得分\n",
    "國英 皆100分->$1000\n",
    "其中一個100分->500\n",
    "國英皆沒有100->沒有獎金\n",
    "'''\n",
    "en=99\n",
    "cn=99\n",
    "if en==100 and cn==100:\n",
    "    print('earn $1000')\n",
    "elif en==100 or cn==100:\n",
    "    print('eren $500')\n",
    "else:\n",
    "    print('pathetic $0，no award')"
   ]
  },
  {
   "cell_type": "code",
   "execution_count": 16,
   "metadata": {},
   "outputs": [
    {
     "name": "stdout",
     "output_type": "stream",
     "text": [
      "0 1 2 3 4 5 6 7 8 9 \n",
      "\n",
      "11 12 13 14 \n",
      "\n",
      "8 18 28 38 48 58 68 78 88 98 "
     ]
    }
   ],
   "source": [
    "#Loop==>口訣: 有限迴圈數用Loop, 無限回圈數用While\n",
    "for i in range(10):#class range(stop)\n",
    "    print(i,end=\" \")\n",
    "print(\"\\n\")\n",
    "for i in range(11,15):#range(start, stop)\n",
    "    print(i,end=\" \")\n",
    "print(\"\\n\")\n",
    "for i in range(8,108,10):#range(start, stop, step(default=1))\n",
    "    print(i,end=\" \")"
   ]
  },
  {
   "cell_type": "code",
   "execution_count": 24,
   "metadata": {},
   "outputs": [
    {
     "name": "stdout",
     "output_type": "stream",
     "text": [
      "5050\n",
      "5050.0\n"
     ]
    }
   ],
   "source": [
    "#loop 練習\n",
    "result=0\n",
    "for i in range(101):\n",
    "    result+=i\n",
    "print(result)\n",
    "\n",
    "print((1+100)*100/2)"
   ]
  },
  {
   "cell_type": "code",
   "execution_count": null,
   "metadata": {},
   "outputs": [],
   "source": []
  }
 ],
 "metadata": {
  "kernelspec": {
   "display_name": "Python 3",
   "language": "python",
   "name": "python3"
  },
  "language_info": {
   "codemirror_mode": {
    "name": "ipython",
    "version": 3
   },
   "file_extension": ".py",
   "mimetype": "text/x-python",
   "name": "python",
   "nbconvert_exporter": "python",
   "pygments_lexer": "ipython3",
   "version": "3.10.8"
  },
  "orig_nbformat": 4
 },
 "nbformat": 4,
 "nbformat_minor": 2
}
