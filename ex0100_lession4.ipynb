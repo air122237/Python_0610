{
 "cells": [
  {
   "cell_type": "code",
   "execution_count": 1,
   "metadata": {},
   "outputs": [
    {
     "name": "stdout",
     "output_type": "stream",
     "text": [
      "hello world\n"
     ]
    }
   ],
   "source": [
    "print('hello world')"
   ]
  },
  {
   "cell_type": "code",
   "execution_count": 14,
   "metadata": {},
   "outputs": [
    {
     "name": "stdout",
     "output_type": "stream",
     "text": [
      "math imported\n",
      "radion= 0.5235987755982989\n",
      "degree(radion)= 30.0\n",
      "==>直角三角形角度為30.0\n"
     ]
    }
   ],
   "source": [
    "import math\n",
    "print('math imported')\n",
    "#trigonometric functions 三角函數(斜邊，對邊，鄰邊)\n",
    "\n",
    "#e=float(input('請輸入斜邊:'))\n",
    "e=5\n",
    "#f=float(input('請輸入對邊:'))\n",
    "f=2.5\n",
    "#g=float(input('請輸入鄰邊:'))\n",
    "#math.sin(x)=f/e\n",
    "#反三角函數arcsin \n",
    "radion = math.asin(f/e)\n",
    "print('radion=',radion)\n",
    "#radion轉degree\n",
    "print('degree(radion)=', round(math.degrees(radion),3))\n",
    "round(math.cos(radion),3)\n",
    "#練習字串差補\n",
    "deg=round(math.degrees(radion),3)\n",
    "print(f\"=>直角三角形角度為{deg}\")"
   ]
  },
  {
   "cell_type": "code",
   "execution_count": null,
   "metadata": {},
   "outputs": [],
   "source": []
  }
 ],
 "metadata": {
  "kernelspec": {
   "display_name": "Python 3",
   "language": "python",
   "name": "python3"
  },
  "language_info": {
   "codemirror_mode": {
    "name": "ipython",
    "version": 3
   },
   "file_extension": ".py",
   "mimetype": "text/x-python",
   "name": "python",
   "nbconvert_exporter": "python",
   "pygments_lexer": "ipython3",
   "version": "3.10.8"
  },
  "orig_nbformat": 4
 },
 "nbformat": 4,
 "nbformat_minor": 2
}
