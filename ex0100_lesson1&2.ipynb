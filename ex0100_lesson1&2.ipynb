{
 "cells": [
  {
   "cell_type": "code",
   "execution_count": 1,
   "metadata": {},
   "outputs": [
    {
     "name": "stdout",
     "output_type": "stream",
     "text": [
      "Hello World!\n"
     ]
    },
    {
     "name": "stderr",
     "output_type": "stream",
     "text": [
      "Bad pipe message: %s [b'0.9,image/avif,image/webp,image/apng,*/*;q=0.8,application/signed-exchange;v=b3;q=0.7\\r\\nHost: localhost:42573\\r\\nUs', b'-Agent: Mozilla/5.0 (Windows NT 10.0; Win64; x64) AppleWebKit/537.36 (KHTML, like Gecko) Chrome/115.']\n",
      "Bad pipe message: %s [b'0.0 Safari/537.36\\r\\nAccept-Encoding: gzip, defla']\n",
      "Bad pipe message: %s [b', br\\r\\nAccept-Language: zh-TW,zh;q=0.9,en-US;q=0.8,en;q=0.7\\r\\nCache-Control: max-age=0\\r\\nX-Forwarded-For: 10.240.0.113', b'Referer: htt']\n",
      "Bad pipe message: %s [b'://urban-space-giggle-w4gvvgrrvx4fgj56.github.dev/\\r\\nX-Request-ID: ab074678e2eb43432b3bced821dadea9\\r\\nX-Real-IP: ', b'.240.0.113\\r\\nX-Forwarded-Proto: https\\r\\nX-Forwarde']\n",
      "Bad pipe message: %s [b'Host: urban-space-giggle-w4gvvgrrvx4fgj56-42573.app.github.dev\\r\\nX-Forwarded-Port: 443\\r\\nX-Forwarded-', b'heme: https\\r\\nX-Original-URI: /\\r\\nX-Scheme: https\\r\\nDNT: 1\\r\\nsec-fetch-site: same-site', b'sec-fetch-mo']\n",
      "Bad pipe message: %s [b'0.9,image/avif,image/webp,image/apng,*/*;q=0.8,application/signed-exchange;v=b3;q=0.7\\r\\nHost: localhost:42573\\r\\nUs', b'-Agent: Mozilla/5.0 (Windows NT 10.0; Win64; x64) AppleWebKit/537.36 (KHTML, like Gecko) Chrome/115.']\n",
      "Bad pipe message: %s [b'0.0 Safari/537.36\\r\\nAccept-Encoding: gzip, defla']\n",
      "Bad pipe message: %s [b', br\\r\\nAccept-Language: zh-TW,zh;q=0.9,en-US;q=0.8,en;q=0.7\\r\\nCache-Control: max-age=0\\r\\nX-Forwarded-For: 10.240.0.113', b'Referer: htt']\n",
      "Bad pipe message: %s [b'://urban-space-giggle-w4gvvgrrvx4fgj56.github.dev/\\r\\nX-Request-ID: 33f2aa79ff333a87f7897ca5f110f967\\r\\nX-Real-IP: ', b'.240.0.113\\r\\nX-Forwarded-Proto: https\\r\\nX-Forwarde']\n",
      "Bad pipe message: %s [b'Host: urban-space-giggle-w4gvvgrrvx4fgj56-42573.app.github.dev\\r\\nX-Forwarded-Port: 443\\r\\nX-Forwarded-', b'heme: https\\r\\nX-Original-URI: /\\r\\nX-Scheme: https\\r\\nsec-ch-ua: \"Not/A)Brand\";v=\"99\", ', b'oogle Chrome\";v=\"115\", \"Chromium\"', b'=\"115\"\\r\\nsec-ch-ua-mobile: ?0\\r\\nsec-ch-ua-platform: \"Windows']\n",
      "Bad pipe message: %s [b'0.9,image/avif,image/webp,image/apng,*/*;q=0.8,application/signed-exchange;v=b3;q=0.7\\r\\nHost: localhost:42573\\r\\nUs', b'-Agent: Mozilla/5.0 (Windows NT 10.0; Win64; x64) AppleWebKit/537.36 (KHTML, like Gecko) Chrome/115.']\n",
      "Bad pipe message: %s [b'0.0 Safari/537.36\\r\\nAccept-Encoding: gzip, defla']\n",
      "Bad pipe message: %s [b', br\\r\\nAccept-Language: zh-TW,zh;q=0.9,en-US;q=0.8,en;q=0.7\\r\\nCache-Control: max-age=0\\r\\nX-Forwarded-For: 10.240.0.113', b'Referer: htt']\n",
      "Bad pipe message: %s [b'://urban-space-giggle-w4gvvgrrvx4fgj56.github.dev/\\r\\nX-Request-ID: 11aa31549b69e2ff87197114d8de898c\\r\\nX-Real-IP: ', b'.240.0.113\\r\\nX-Forwarded-Proto: https\\r\\nX-Forwarde']\n",
      "Bad pipe message: %s [b'Host: urban-space-giggle-w4gvvgrrvx4fgj56-42573.app.github.dev\\r\\nX-Forwarded-Port: 443\\r\\nX-Forwarded-', b'heme: https\\r\\nX-Original-URI: /\\r\\nX-Scheme: https\\r\\nsec-ch-ua: \"Not/A)Brand\";v=\"99\", ', b'oogle Chrome\";v=\"115\", \"Chromium\"', b'=\"115\"\\r\\nsec-ch-ua-mobile: ?0\\r\\nsec-ch-ua-platform: \"Windows']\n"
     ]
    }
   ],
   "source": [
    "#印出Hello World!\n",
    "print('Hello World!') "
   ]
  },
  {
   "cell_type": "code",
   "execution_count": 4,
   "metadata": {},
   "outputs": [
    {
     "name": "stdout",
     "output_type": "stream",
     "text": [
      "<class 'int'>\n",
      "<class 'int'>\n",
      "<class 'int'>\n",
      "id(a)= 140111955247632\n",
      "id(b)= 140111955247632\n",
      "id(c)= 140111955247632\n",
      "id(0)= 140111955247312\n",
      "id(1)= 140111955247344\n",
      "id(2)= 140111955247376\n",
      "id(3)= 140111955247408\n",
      "id(10)= 140111955247632\n"
     ]
    }
   ],
   "source": [
    "#pass-by-value\n",
    "a=10\n",
    "b=10\n",
    "\n",
    "#型別 Type\n",
    "print(type(a))\n",
    "print(type(b))\n",
    "print(type(10))\n",
    "#id\n",
    "print('id(a)=',id(a))\n",
    "print('id(b)=',id(b))\n",
    "c=a\n",
    "print('id(c)=',id(c))\n",
    "print('id(0)=',id(0))\n",
    "print('id(1)=',id(1))\n",
    "print('id(2)=',id(2))\n",
    "print('id(3)=',id(3))\n",
    "print('id(10)=',id(10))\n",
    "\n"
   ]
  },
  {
   "cell_type": "code",
   "execution_count": 31,
   "metadata": {},
   "outputs": [
    {
     "name": "stdout",
     "output_type": "stream",
     "text": [
      "Outside function - before function call: [1, 2, 3]\n",
      "id(my_list)= 140115997657600\n",
      "Inside function - before modification: [1, 2, 3]\n",
      "id(lst)= 140115997657600\n",
      "Inside function - after modification: [1, 2, 3, 4]\n",
      "id(lst)= 140115997657600\n",
      "Outside function - after function call: [1, 2, 3, 4]\n",
      "id(my_list)= 140115997657600\n"
     ]
    }
   ],
   "source": [
    "#pass-by-address\n",
    "def modify_list(lst):\n",
    "    print('Inside function - before modification:', lst)\n",
    "    print('id(lst)=',id(lst))\n",
    "    lst.append(4)\n",
    "\n",
    "    print('Inside function - after modification:', lst)\n",
    "    print('id(lst)=',id(lst))\n",
    "my_list = [1, 2, 3]\n",
    "print('Outside function - before function call:', my_list)\n",
    "\n",
    "print('id(my_list)=',id(my_list))\n",
    "modify_list(my_list)\n",
    "print('Outside function - after function call:', my_list)\n",
    "print('id(my_list)=',id(my_list))"
   ]
  },
  {
   "cell_type": "code",
   "execution_count": 71,
   "metadata": {},
   "outputs": [
    {
     "name": "stdout",
     "output_type": "stream",
     "text": [
      "<class 'str'>\n",
      "apple\n",
      "<class 'str'>\n",
      "bear honey\n",
      "<class 'str'>\n",
      "catagories\n",
      "strc= catagories/bear honey/apple\n",
      "H!e!l!l!o!,!J!a!v!a!\n",
      "strj=N/A\n",
      "strj= qaqaqaq\n",
      "你輸入的數字是:qaqaqaq\n"
     ]
    }
   ],
   "source": [
    "#字串型\n",
    "    #給值\n",
    "stra='apple'\n",
    "strb=\"bear honey\"\n",
    "strc='''catagories'''\n",
    "print(type(stra))\n",
    "print(stra)\n",
    "print(type(strb))\n",
    "print(strb)\n",
    "print(type(strc))\n",
    "print(strc)\n",
    "\n",
    "#字串索引\n",
    "stra[0]\n",
    "strb[1:4]\n",
    "#字串反轉\n",
    "strc[::-1]\n",
    "#字串轉換 upper、lower\n",
    "strc.upper()\n",
    "strc\n",
    "#字串替換 replace\n",
    "strb.replace('ear','eatbox')\n",
    "#字串相加\n",
    "strc=strc+'/'+strb+\"/\"+stra\n",
    "print(\"strc=\",strc)\n",
    "#字串分割 \n",
    "strd='we_wish_you_a_marry_christmas'\n",
    "strd.split('_')\n",
    "#字串搜尋\n",
    "strd.find('ish')\n",
    "#字串山竹頭尾空格\n",
    "stre='  hello python in coming    '\n",
    "strf=stre.strip()\n",
    "#自串串接\n",
    "strg='!'\n",
    "strh='Hello,Java'\n",
    "stri=strg.join(strh)+'!'\n",
    "print(stri)\n",
    "#輸入+輸出\n",
    "strj='strj=N/A'\n",
    "print(strj)\n",
    "strj=input('請輸入一個數字')\n",
    "print('strj=',strj)\n",
    "\n",
    "#輸出=>f-sting\n",
    "print(f'你輸入的數字是:{strj}')\n"
   ]
  },
  {
   "cell_type": "code",
   "execution_count": 75,
   "metadata": {},
   "outputs": [
    {
     "name": "stdout",
     "output_type": "stream",
     "text": [
      "x= 1 :y= 2\n",
      "x= 2 :y= 1\n",
      "x= [1, 2, 3] :y= 1\n",
      "x= [1, 2, 3] :y= [1, 2, 3]\n"
     ]
    }
   ],
   "source": [
    "#多重賦值\n",
    "x,y=1,2\n",
    "print('x=',x,':y=',y)\n",
    "#數值交換\n",
    "x,y=y,x\n",
    "print('x=',x,':y=',y)\n"
   ]
  },
  {
   "cell_type": "code",
   "execution_count": 84,
   "metadata": {},
   "outputs": [
    {
     "name": "stdout",
     "output_type": "stream",
     "text": [
      "x= [1, 2, 3] :y= [1, 2, 3]\n",
      "x= [1, 2, 3] :y= [1, 2, 3]\n",
      " list1= [[1, 2, 3], [4, 5, 6]] \n",
      " list2= [[1, 2, 3], [4, 5, 6]]\n",
      "list1.id()= 140111835078336\n",
      "list2.id()= 140111833689792\n",
      " list1= [[9, 2, 3], [4, 5, 6]] \n",
      " list2= [[9, 2, 3], [4, 5, 6]]\n",
      "list1.id()= 140111835078336\n",
      "list2.id()= 140111833689792\n",
      "\n",
      "深層複製\n",
      " list3= [[7, 8, 9], [6, 5, 4]] \n",
      " list4= [[7, 8, 9], [6, 5, 4]]\n",
      "list3.id()= 140111835653120\n",
      "list4.id()= 140111833847552\n"
     ]
    }
   ],
   "source": [
    "#淺層複製 copy\n",
    "x=[1,2,3]\n",
    "print('x=',x,':y=',y)\n",
    "y=x\n",
    "print('x=',x,':y=',y)\n",
    "\n",
    "#深層複製 deepcopy\n",
    "list1=[[1,2,3],[4,5,6]]\n",
    "list2=list1.copy()\n",
    "print(' list1=',list1,'\\n','list2=',list2)\n",
    "print('list1.id()=',id(list1))\n",
    "print('list2.id()=',id(list2))\n",
    "#修改 list1的第一個元素\n",
    "list1[0][0]=9\n",
    "print(' list1=',list1,'\\n','list2=',list2)\n",
    "print('list1.id()=',id(list1))\n",
    "print('list2.id()=',id(list2))\n",
    "#深層複製\n",
    "\n",
    "print('\\n''深層複製')\n",
    "import copy\n",
    "list3=[[7,8,9],[6,5,4]]\n",
    "list4=copy.deepcopy(list3)\n",
    "print(' list3=',list3,'\\n','list4=',list4)\n",
    "print('list3.id()=',id(list3))\n",
    "print('list4.id()=',id(list4))\n"
   ]
  },
  {
   "cell_type": "code",
   "execution_count": 95,
   "metadata": {},
   "outputs": [
    {
     "name": "stdout",
     "output_type": "stream",
     "text": [
      "對a四捨五入為4\n",
      "對b四捨五入為4\n"
     ]
    },
    {
     "ename": "AttributeError",
     "evalue": "type object 'decimal.Decimal' has no attribute 'Quantize'",
     "output_type": "error",
     "traceback": [
      "\u001b[0;31m---------------------------------------------------------------------------\u001b[0m",
      "\u001b[0;31mAttributeError\u001b[0m                            Traceback (most recent call last)",
      "Cell \u001b[0;32mIn[95], line 11\u001b[0m\n\u001b[1;32m      9\u001b[0m c\u001b[39m=\u001b[39m\u001b[39m5.5\u001b[39m\n\u001b[1;32m     10\u001b[0m d\u001b[39m=\u001b[39m\u001b[39m6.5\u001b[39m\n\u001b[0;32m---> 11\u001b[0m \u001b[39mprint\u001b[39m(\u001b[39mf\u001b[39m\u001b[39m'\u001b[39m\u001b[39m對c四捨五入為\u001b[39m\u001b[39m{\u001b[39;00mdecimal\u001b[39m.\u001b[39;49mDecimal\u001b[39m.\u001b[39;49mQuantize(c)\u001b[39m}\u001b[39;00m\u001b[39m'\u001b[39m)\n\u001b[1;32m     12\u001b[0m \u001b[39mprint\u001b[39m(\u001b[39mf\u001b[39m\u001b[39m'\u001b[39m\u001b[39m對d四捨五入為\u001b[39m\u001b[39m{\u001b[39;00mdecimal\u001b[39m.\u001b[39mDecimal\u001b[39m.\u001b[39mQuantize(d)\u001b[39m}\u001b[39;00m\u001b[39m'\u001b[39m)\n",
      "\u001b[0;31mAttributeError\u001b[0m: type object 'decimal.Decimal' has no attribute 'Quantize'"
     ]
    }
   ],
   "source": [
    "#四捨五入\n",
    "a=3.5\n",
    "b=4.5\n",
    "#Python內建的四捨五入為\"找離數字最近的偶數\"\n",
    "print(f'對a四捨五入為{round(a)}')\n",
    "print(f'對b四捨五入為{round(b)}')\n",
    "#如果要做數學上的四捨五入，import math模組\n",
    "import math\n",
    "import decimal \n",
    "c=5.5\n",
    "d=6.5\n",
    "print(f'對c四捨五入為{decimal.Decimal.Quantize(c)}')\n",
    "print(f'對d四捨五入為{decimal.Decimal.Quantize(d)}')"
   ]
  },
  {
   "cell_type": "code",
   "execution_count": null,
   "metadata": {},
   "outputs": [],
   "source": [
    "#format 函數\n"
   ]
  }
 ],
 "metadata": {
  "kernelspec": {
   "display_name": "Python 3",
   "language": "python",
   "name": "python3"
  },
  "language_info": {
   "codemirror_mode": {
    "name": "ipython",
    "version": 3
   },
   "file_extension": ".py",
   "mimetype": "text/x-python",
   "name": "python",
   "nbconvert_exporter": "python",
   "pygments_lexer": "ipython3",
   "version": "3.10.8"
  },
  "orig_nbformat": 4
 },
 "nbformat": 4,
 "nbformat_minor": 2
}
