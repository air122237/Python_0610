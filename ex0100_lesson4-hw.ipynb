{
 "cells": [
  {
   "cell_type": "code",
   "execution_count": 8,
   "metadata": {},
   "outputs": [
    {
     "name": "stdout",
     "output_type": "stream",
     "text": [
      "15\n",
      "13\n",
      "11\n",
      "9\n",
      "7\n",
      "5\n",
      "3\n",
      "1\n"
     ]
    }
   ],
   "source": [
    "#Question: 請問執行後最後的輸出哪一個是對的?(選擇題)\n",
    "a=15\n",
    "while a>0:\n",
    "    print(a)\n",
    "    a-=2"
   ]
  },
  {
   "cell_type": "code",
   "execution_count": 15,
   "metadata": {},
   "outputs": [
    {
     "name": "stdout",
     "output_type": "stream",
     "text": [
      "6\n",
      "12\n",
      "20\n",
      "30\n",
      "final b=30\n",
      "30\n"
     ]
    }
   ],
   "source": [
    "#Homework:計算2 - 10所有偶數的總和\n",
    "a=b=2\n",
    "while a<10:\n",
    "    a+=2\n",
    "    b+=a\n",
    "    \n",
    "    print(b)\n",
    "print(f\"final b={b}\")\n",
    "print(2+4+6+8+10)"
   ]
  },
  {
   "cell_type": "code",
   "execution_count": 22,
   "metadata": {},
   "outputs": [
    {
     "name": "stdout",
     "output_type": "stream",
     "text": [
      "本星期的支出為:4037元\n"
     ]
    }
   ],
   "source": [
    "'''Homework:計算固定中的支出，媽媽每天會將家裡的花費記錄下來，並且計算本週的花費總和\n",
    "計算固定中的支出，媽媽每天會將家裡的花費記錄下來，並且計算本週的花費總和\n",
    "\n",
    "顯示:\n",
    "請輸入星期1 的支出567\n",
    "請輸入星期2 的支出456\n",
    "請輸入星期3 的支出567\n",
    "請輸入星期4 的支出890\n",
    "請輸入星期5 的支出345\n",
    "請輸入星期6 的支出534\n",
    "請輸入星期日 的支出678\n",
    "本星期的支出為:4037元'''\n",
    "\n",
    "weekday, expenditure=1,0\n",
    "\n",
    "while weekday<=7:\n",
    "    \n",
    "    \n",
    "    if weekday!=7:\n",
    "        expenditure=int(input(f\"請輸入星期{weekday}的支出\"))+expenditure\n",
    "        weekday+=1\n",
    "    else:\n",
    "        expenditure=int(input(f\"請輸入星期日的支出\"))+expenditure\n",
    "        weekday+=1\n",
    "\n",
    "print(f\"本星期的支出為:{expenditure}元\")"
   ]
  },
  {
   "cell_type": "code",
   "execution_count": null,
   "metadata": {},
   "outputs": [],
   "source": []
  }
 ],
 "metadata": {
  "kernelspec": {
   "display_name": "Python 3",
   "language": "python",
   "name": "python3"
  },
  "language_info": {
   "codemirror_mode": {
    "name": "ipython",
    "version": 3
   },
   "file_extension": ".py",
   "mimetype": "text/x-python",
   "name": "python",
   "nbconvert_exporter": "python",
   "pygments_lexer": "ipython3",
   "version": "3.10.8"
  },
  "orig_nbformat": 4
 },
 "nbformat": 4,
 "nbformat_minor": 2
}
