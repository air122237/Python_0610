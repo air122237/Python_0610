{
 "cells": [
  {
   "cell_type": "code",
   "execution_count": 12,
   "metadata": {},
   "outputs": [],
   "source": [
    "text='''Apple 全球開發者大會將於\n",
    "台灣時間 2023 年 6 月 6 日凌晨\n",
    "以 Keynote 演講揭開序幕QQQ'''\n",
    "\n",
    "file=open('WWDC23.txt',mode='a')\n",
    "print(text,file=file)\n",
    "file.close()"
   ]
  },
  {
   "cell_type": "code",
   "execution_count": 32,
   "metadata": {},
   "outputs": [],
   "source": [
    "file_1=open('linebyline.txt',mode='w',encoding='utf-8')\n",
    "file_1.write(\"這是第一行\\n\")\n",
    "file_1.write(\"這是第二行\\n\")\n",
    "file_1.writelines(\"\"\"這是第三行\n",
    "                第四\n",
    "        第五\n",
    "                  9898\"\"\")\n",
    "file_1.close()"
   ]
  },
  {
   "cell_type": "code",
   "execution_count": 36,
   "metadata": {},
   "outputs": [
    {
     "name": "stdout",
     "output_type": "stream",
     "text": [
      "*******************linebyline內容為*******************\n",
      "這是第一行\n",
      "這是第二行\n",
      "這是第三行\n",
      "                第四\n",
      "        第五\n",
      "                  9898\n"
     ]
    }
   ],
   "source": [
    "file=open('linebyline.txt',mode=\"+r\",encoding=\"utf-8\")\n",
    "all_text=file.read()\n",
    "print(f\"*******************linebyline內容為*******************\\n{all_text}\")\n",
    "\n"
   ]
  },
  {
   "cell_type": "code",
   "execution_count": 21,
   "metadata": {},
   "outputs": [],
   "source": [
    "import random\n",
    "students=[]\n",
    "for _ in range(50):\n",
    "    stu=list()\n",
    "    for _ in range(5):\n",
    "        stu.append(random.randint(50,100))\n",
    "    students.append(stu)\n",
    "students\n",
    "\n",
    "import csv\n",
    "\n",
    "csv_write_file= open('students.csv',newline='',mode='w',encoding='utf-8-sig')#建立一個可寫入的CSV檔案，csv_write_file是一個檔案實體\n",
    "    #UTF-8是pandas預設的編碼格式，但通常用這個方式都會出現亂碼，\n",
    "    #====>\n",
    "    #   可行作法: UTF-8-Sig和UTF-8的主要差別是前者是UTF-8 with BOM (Byte Order Mark)，在Win10中翻譯成「具有BOM的UTF-8」，後者沒有BOM\n",
    "    #   可行作法: 如果utf-8-sig不幸未能完成任務，那你可以試試big5，但Code space 會亂碼\n",
    "csv_writer = csv.writer(csv_write_file)#csv_write_file將內容寫入CSV_writer\n",
    "\n",
    "csv_writer.writerow(['國文','英文','數學','地理','歷史'])\n",
    "csv_writer.writerows(students)\n",
    "csv_write_file.close()"
   ]
  }
 ],
 "metadata": {
  "kernelspec": {
   "display_name": "Python 3",
   "language": "python",
   "name": "python3"
  },
  "language_info": {
   "codemirror_mode": {
    "name": "ipython",
    "version": 3
   },
   "file_extension": ".py",
   "mimetype": "text/x-python",
   "name": "python",
   "nbconvert_exporter": "python",
   "pygments_lexer": "ipython3",
   "version": "3.10.8"
  },
  "orig_nbformat": 4
 },
 "nbformat": 4,
 "nbformat_minor": 2
}
