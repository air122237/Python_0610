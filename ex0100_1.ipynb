{
 "cells": [
  {
   "cell_type": "code",
   "execution_count": 1,
   "metadata": {},
   "outputs": [
    {
     "name": "stdout",
     "output_type": "stream",
     "text": [
      "Hello World!\n"
     ]
    }
   ],
   "source": [
    "print('Hello World!') "
   ]
  },
  {
   "cell_type": "code",
   "execution_count": 20,
   "metadata": {},
   "outputs": [
    {
     "name": "stdout",
     "output_type": "stream",
     "text": [
      "<class 'int'>\n",
      "<class 'int'>\n",
      "<class 'int'>\n",
      "id(a)= 140116113900048\n",
      "id(b)= 140116113900048\n",
      "id(c)= 140116113900048\n",
      "id(0)= 140116113899728\n",
      "id(1)= 140116113899760\n",
      "id(2)= 140116113899792\n",
      "id(3)= 140116113899824\n",
      "id(10)= 140116113900048\n"
     ]
    }
   ],
   "source": [
    "a=10\n",
    "b=10\n",
    "\n",
    "#型別 Type\n",
    "print(type(a))\n",
    "print(type(b))\n",
    "print(type(10))\n",
    "#id\n",
    "print('id(a)=',id(a))\n",
    "print('id(b)=',id(b))\n",
    "c=a\n",
    "print('id(c)=',id(c))\n",
    "print('id(0)=',id(0))\n",
    "print('id(1)=',id(1))\n",
    "print('id(2)=',id(2))\n",
    "print('id(3)=',id(3))\n",
    "print('id(10)=',id(10))\n",
    "\n"
   ]
  },
  {
   "cell_type": "code",
   "execution_count": 21,
   "metadata": {},
   "outputs": [
    {
     "name": "stdout",
     "output_type": "stream",
     "text": [
      "Outside function - before function call: [1, 2, 3]\n",
      "Inside function - before modification: [1, 2, 3]\n",
      "Inside function - after modification: [1, 2, 3, 4]\n",
      "Outside function - after function call: [1, 2, 3, 4]\n"
     ]
    }
   ],
   "source": [
    "def modify_list(lst):\n",
    "    print('Inside function - before modification:', lst)\n",
    "    lst.append(4)\n",
    "    print('Inside function - after modification:', lst)\n",
    "\n",
    "my_list = [1, 2, 3]\n",
    "print('Outside function - before function call:', my_list)\n",
    "modify_list(my_list)\n",
    "print('Outside function - after function call:', my_list)\n"
   ]
  }
 ],
 "metadata": {
  "kernelspec": {
   "display_name": "Python 3",
   "language": "python",
   "name": "python3"
  },
  "language_info": {
   "codemirror_mode": {
    "name": "ipython",
    "version": 3
   },
   "file_extension": ".py",
   "mimetype": "text/x-python",
   "name": "python",
   "nbconvert_exporter": "python",
   "pygments_lexer": "ipython3",
   "version": "3.10.4"
  },
  "orig_nbformat": 4
 },
 "nbformat": 4,
 "nbformat_minor": 2
}
