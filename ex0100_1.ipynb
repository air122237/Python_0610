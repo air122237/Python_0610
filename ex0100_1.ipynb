{
 "cells": [
  {
   "cell_type": "code",
   "execution_count": 1,
   "metadata": {},
   "outputs": [
    {
     "name": "stdout",
     "output_type": "stream",
     "text": [
      "Hello World!\n"
     ]
    }
   ],
   "source": [
    "#印出Hello World!\n",
    "print('Hello World!') "
   ]
  },
  {
   "cell_type": "code",
   "execution_count": 4,
   "metadata": {},
   "outputs": [
    {
     "name": "stdout",
     "output_type": "stream",
     "text": [
      "<class 'int'>\n",
      "<class 'int'>\n",
      "<class 'int'>\n",
      "id(a)= 140111955247632\n",
      "id(b)= 140111955247632\n",
      "id(c)= 140111955247632\n",
      "id(0)= 140111955247312\n",
      "id(1)= 140111955247344\n",
      "id(2)= 140111955247376\n",
      "id(3)= 140111955247408\n",
      "id(10)= 140111955247632\n"
     ]
    }
   ],
   "source": [
    "#pass-by-value\n",
    "a=10\n",
    "b=10\n",
    "\n",
    "#型別 Type\n",
    "print(type(a))\n",
    "print(type(b))\n",
    "print(type(10))\n",
    "#id\n",
    "print('id(a)=',id(a))\n",
    "print('id(b)=',id(b))\n",
    "c=a\n",
    "print('id(c)=',id(c))\n",
    "print('id(0)=',id(0))\n",
    "print('id(1)=',id(1))\n",
    "print('id(2)=',id(2))\n",
    "print('id(3)=',id(3))\n",
    "print('id(10)=',id(10))\n",
    "\n"
   ]
  },
  {
   "cell_type": "code",
   "execution_count": 31,
   "metadata": {},
   "outputs": [
    {
     "name": "stdout",
     "output_type": "stream",
     "text": [
      "Outside function - before function call: [1, 2, 3]\n",
      "id(my_list)= 140115997657600\n",
      "Inside function - before modification: [1, 2, 3]\n",
      "id(lst)= 140115997657600\n",
      "Inside function - after modification: [1, 2, 3, 4]\n",
      "id(lst)= 140115997657600\n",
      "Outside function - after function call: [1, 2, 3, 4]\n",
      "id(my_list)= 140115997657600\n"
     ]
    }
   ],
   "source": [
    "#pass-by-address\n",
    "def modify_list(lst):\n",
    "    print('Inside function - before modification:', lst)\n",
    "    print('id(lst)=',id(lst))\n",
    "    lst.append(4)\n",
    "\n",
    "    print('Inside function - after modification:', lst)\n",
    "    print('id(lst)=',id(lst))\n",
    "my_list = [1, 2, 3]\n",
    "print('Outside function - before function call:', my_list)\n",
    "\n",
    "print('id(my_list)=',id(my_list))\n",
    "modify_list(my_list)\n",
    "print('Outside function - after function call:', my_list)\n",
    "print('id(my_list)=',id(my_list))"
   ]
  },
  {
   "cell_type": "code",
   "execution_count": 71,
   "metadata": {},
   "outputs": [
    {
     "name": "stdout",
     "output_type": "stream",
     "text": [
      "<class 'str'>\n",
      "apple\n",
      "<class 'str'>\n",
      "bear honey\n",
      "<class 'str'>\n",
      "catagories\n",
      "strc= catagories/bear honey/apple\n",
      "H!e!l!l!o!,!J!a!v!a!\n",
      "strj=N/A\n",
      "strj= qaqaqaq\n",
      "你輸入的數字是:qaqaqaq\n"
     ]
    }
   ],
   "source": [
    "#字串型\n",
    "    #給值\n",
    "stra='apple'\n",
    "strb=\"bear honey\"\n",
    "strc='''catagories'''\n",
    "print(type(stra))\n",
    "print(stra)\n",
    "print(type(strb))\n",
    "print(strb)\n",
    "print(type(strc))\n",
    "print(strc)\n",
    "\n",
    "#字串索引\n",
    "stra[0]\n",
    "strb[1:4]\n",
    "#字串反轉\n",
    "strc[::-1]\n",
    "#字串轉換 upper、lower\n",
    "strc.upper()\n",
    "strc\n",
    "#字串替換 replace\n",
    "strb.replace('ear','eatbox')\n",
    "#字串相加\n",
    "strc=strc+'/'+strb+\"/\"+stra\n",
    "print(\"strc=\",strc)\n",
    "#字串分割 \n",
    "strd='we_wish_you_a_marry_christmas'\n",
    "strd.split('_')\n",
    "#字串搜尋\n",
    "strd.find('ish')\n",
    "#字串山竹頭尾空格\n",
    "stre='  hello python in coming    '\n",
    "strf=stre.strip()\n",
    "#自串串接\n",
    "strg='!'\n",
    "strh='Hello,Java'\n",
    "stri=strg.join(strh)+'!'\n",
    "print(stri)\n",
    "#輸入+輸出\n",
    "strj='strj=N/A'\n",
    "print(strj)\n",
    "strj=input('請輸入一個數字')\n",
    "print('strj=',strj)\n",
    "\n",
    "#輸出=>f-sting\n",
    "print(f'你輸入的數字是:{strj}')\n"
   ]
  }
 ],
 "metadata": {
  "kernelspec": {
   "display_name": "Python 3",
   "language": "python",
   "name": "python3"
  },
  "language_info": {
   "codemirror_mode": {
    "name": "ipython",
    "version": 3
   },
   "file_extension": ".py",
   "mimetype": "text/x-python",
   "name": "python",
   "nbconvert_exporter": "python",
   "pygments_lexer": "ipython3",
   "version": "3.10.4"
  },
  "orig_nbformat": 4
 },
 "nbformat": 4,
 "nbformat_minor": 2
}
