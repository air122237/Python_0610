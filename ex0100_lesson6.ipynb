{
 "cells": [
  {
   "cell_type": "code",
   "execution_count": 13,
   "metadata": {},
   "outputs": [
    {
     "name": "stdout",
     "output_type": "stream",
     "text": [
      "current sum is still 0\n",
      "current sum is 2\n",
      "current sum is still 2\n",
      "current sum is 6\n",
      "current sum is still 6\n",
      "current sum is 12\n",
      "current sum is still 12\n",
      "current sum is 20\n",
      "current sum is still 20\n",
      "current sum is still 20\n",
      "the final sum is 20, and it's the 10 number\n"
     ]
    }
   ],
   "source": [
    "#請設計一個程式，讓使用者輸入數值，只有加總正偶數值，不加總正奇數值，如果輸入負數，結束程式。\n",
    "\n",
    "sum=0\n",
    "seq=0\n",
    "\n",
    "while True:\n",
    "    seq+=1\n",
    "    input_value=int(input(f\"please type in the {seq} number\"))\n",
    "    if input_value<0:\n",
    "        if seq==1:\n",
    "            print(f\"current sum is {sum}\")\n",
    "        else:\n",
    "            print(f\"current sum is still {sum}\")\n",
    "        break\n",
    "    elif input_value%2==1:\n",
    "        print(f\"current sum is still {sum}\")\n",
    "        continue\n",
    "    else :\n",
    "        sum+=input_value\n",
    "        print(f\"current sum is {sum}\")\n",
    "print(f\"the final sum is {sum}, and it's the {seq} number\")"
   ]
  },
  {
   "cell_type": "code",
   "execution_count": 1,
   "metadata": {},
   "outputs": [
    {
     "data": {
      "text/plain": [
       "<bound method Kernel.raw_input of <ipykernel.ipkernel.IPythonKernel object at 0x7f0050368160>>"
      ]
     },
     "execution_count": 1,
     "metadata": {},
     "output_type": "execute_result"
    }
   ],
   "source": [
    "import random\n",
    "random.randrange(10)\n",
    "random.randint(1,10)\n",
    "input()"
   ]
  },
  {
   "cell_type": "code",
   "execution_count": 9,
   "metadata": {},
   "outputs": [
    {
     "name": "stdout",
     "output_type": "stream",
     "text": [
      "(-1.0, -7.0)\n",
      "(-1.0, -7.0)\n",
      "(2.0, 1.0)\n"
     ]
    }
   ],
   "source": [
    "#製作一元二次方程式公式解的function\n",
    "def circle_area(a:float, b:float, c:float ):\n",
    "    p_root=(-b+(b**2-4*a*c)**0.5)/(2*a)\n",
    "    n_root=(-b-(b**2-4*a*c)**0.5)/(2*a)\n",
    "    return(p_root,n_root)\n",
    "\n",
    "print(circle_area(1,8,7))\n",
    "print(circle_area(0.5,4,3.5))\n",
    "print(circle_area(1,-3,2))"
   ]
  }
 ],
 "metadata": {
  "kernelspec": {
   "display_name": "Python 3",
   "language": "python",
   "name": "python3"
  },
  "language_info": {
   "codemirror_mode": {
    "name": "ipython",
    "version": 3
   },
   "file_extension": ".py",
   "mimetype": "text/x-python",
   "name": "python",
   "nbconvert_exporter": "python",
   "pygments_lexer": "ipython3",
   "version": "3.10.8"
  },
  "orig_nbformat": 4
 },
 "nbformat": 4,
 "nbformat_minor": 2
}
