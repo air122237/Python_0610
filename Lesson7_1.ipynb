{
 "cells": [
  {
   "cell_type": "code",
   "execution_count": 2,
   "metadata": {},
   "outputs": [
    {
     "data": {
      "text/plain": [
       "(404, 'error')"
      ]
     },
     "execution_count": 2,
     "metadata": {},
     "output_type": "execute_result"
    }
   ],
   "source": [
    "####tuple###\n",
    "\n",
    "\n",
    "\n",
    "#多元素的tuple建立\n",
    "(404,\"error\")"
   ]
  },
  {
   "cell_type": "code",
   "execution_count": 6,
   "metadata": {},
   "outputs": [],
   "source": [
    "#Tuple拆解法\n",
    "\n",
    "def get_tuple():\n",
    "    return (404,\"error\")"
   ]
  },
  {
   "cell_type": "code",
   "execution_count": 8,
   "metadata": {},
   "outputs": [
    {
     "name": "stdout",
     "output_type": "stream",
     "text": [
      "code=404\n",
      "message=error\n"
     ]
    }
   ],
   "source": [
    "#Tuple 拆解\n",
    "(code, message)=get_tuple()\n",
    "print(f\"code={code}\")\n",
    "print(f\"message={message}\")"
   ]
  },
  {
   "cell_type": "code",
   "execution_count": 1,
   "metadata": {},
   "outputs": [
    {
     "name": "stdout",
     "output_type": "stream",
     "text": [
      "type of singledigit_tuple is :<class 'tuple'>\n",
      "(1,)\n"
     ]
    }
   ],
   "source": [
    "#單元素的tuple建立 \n",
    "singledigit_tuple=(1,)\n",
    "\n",
    "print(f\"type of singledigit_tuple is :{type(singledigit_tuple)}\")\n",
    "print(singledigit_tuple)"
   ]
  },
  {
   "cell_type": "code",
   "execution_count": 5,
   "metadata": {},
   "outputs": [
    {
     "name": "stdout",
     "output_type": "stream",
     "text": [
      "<class 'list'>\n"
     ]
    },
    {
     "data": {
      "text/plain": [
       "['a', 'b', 'c', 1, 2, 3]"
      ]
     },
     "execution_count": 5,
     "metadata": {},
     "output_type": "execute_result"
    }
   ],
   "source": [
    "####list###\n",
    "\n",
    "\n",
    "#使用內建Function建立list\n",
    "list()\n",
    "\n",
    "print(list)\n",
    "\n",
    "list(('a','b','c',1,2,3))\n"
   ]
  },
  {
   "cell_type": "code",
   "execution_count": 32,
   "metadata": {},
   "outputs": [
    {
     "name": "stdout",
     "output_type": "stream",
     "text": [
      "stu1=[78, 98, 56, 74, 79]\n",
      "type of stu1-<class 'list'>\n",
      "78\n",
      "98\n",
      "56\n",
      "74\n",
      "79\n",
      "list=[1, 2, 3, 4, 5, 6, 7, 8, 9]\n"
     ]
    }
   ],
   "source": [
    "#使用符號建立list\n",
    "stu1=[78,98,56,74,79]\n",
    "print(f\"stu1={stu1}\")\n",
    "print(f\"type of stu1-{type(stu1)}\")\n",
    "#list is iterable\n",
    "\n",
    "for score in stu1:\n",
    "    print(score)\n",
    "    \n",
    "\n",
    "list(range(1,10))\n",
    "print(f\"list={list(range(1,10))}\")\n"
   ]
  },
  {
   "cell_type": "code",
   "execution_count": 31,
   "metadata": {},
   "outputs": [
    {
     "data": {
      "text/plain": [
       "'a'"
      ]
     },
     "execution_count": 31,
     "metadata": {},
     "output_type": "execute_result"
    }
   ],
   "source": [
    "rangetest=['a',\"c\",\"d\",\"e\",\"g\"]\n",
    "type(rangetest)\n",
    "rangetest[0]"
   ]
  },
  {
   "cell_type": "code",
   "execution_count": 33,
   "metadata": {},
   "outputs": [
    {
     "data": {
      "text/plain": [
       "5"
      ]
     },
     "execution_count": 33,
     "metadata": {},
     "output_type": "execute_result"
    }
   ],
   "source": [
    "#查詢list 內有幾個參考\n",
    "len(rangetest)"
   ]
  },
  {
   "cell_type": "code",
   "execution_count": 37,
   "metadata": {},
   "outputs": [
    {
     "name": "stdout",
     "output_type": "stream",
     "text": [
      "H\n",
      "e\n",
      "l\n",
      "l\n",
      "o\n",
      "w\n",
      "o\n",
      "r\n",
      "d\n"
     ]
    }
   ],
   "source": [
    "#loop iterable\n",
    "for h in \"Helloword\" :\n",
    "    print(h)"
   ]
  },
  {
   "cell_type": "code",
   "execution_count": 39,
   "metadata": {},
   "outputs": [
    {
     "data": {
      "text/plain": [
       "['H', 'e', 'l', 'l', 'o', 'W', 'o', 'r', 'd']"
      ]
     },
     "execution_count": 39,
     "metadata": {},
     "output_type": "execute_result"
    }
   ],
   "source": [
    "words=list(\"HelloWord\")\n",
    "words"
   ]
  },
  {
   "cell_type": "code",
   "execution_count": 44,
   "metadata": {},
   "outputs": [
    {
     "name": "stdout",
     "output_type": "stream",
     "text": [
      "['H', 'e', 'l', 'l', 'o']\n",
      "['o', 'W', 'o', 'r']\n",
      "['o', 'W', 'o', 'r', 'd']\n",
      "['H', 'e', 'l', 'l', 'o']\n"
     ]
    }
   ],
   "source": [
    "#slice 切割\n",
    "print(words[0:5])\n",
    "\n",
    "print(words[-5:-1])  #-1 就會不顯示-1，\n",
    "print(words[-5:])\n",
    "\n",
    "print(words[:5])\n",
    "\n"
   ]
  },
  {
   "cell_type": "code",
   "execution_count": 63,
   "metadata": {},
   "outputs": [
    {
     "name": "stdout",
     "output_type": "stream",
     "text": [
      "NBspec=[['筆電', '桌機'], ['Apple', 'Asus', 'Acer', 'Dell', 'HP'], ['AMD', 'Intel', 'Arm', 'Quacomm']]\n",
      "<class 'list'>\n",
      "<class 'list'>\n",
      "<class 'str'>\n"
     ]
    }
   ],
   "source": [
    "nb=['筆電','桌機']\n",
    "brand=['Apple','Asus','Acer','Dell','HP']\n",
    "CPU=['AMD','Intel','Arm','Quacomm']\n",
    "\n",
    "NBspec=[nb,brand,CPU]\n",
    "\n",
    "print (f\"NBspec={NBspec}\")\n",
    "\n",
    "\n",
    "\n",
    "print(type(NBspec))\n",
    "print(type(NBspec[1]))\n",
    "print(type(NBspec[1][0]))\n"
   ]
  },
  {
   "cell_type": "code",
   "execution_count": 50,
   "metadata": {},
   "outputs": [
    {
     "name": "stdout",
     "output_type": "stream",
     "text": [
      "筆電\n",
      "Apple\n",
      "AMD\n",
      "筆電\n",
      "Apple\n",
      "AMD\n"
     ]
    }
   ],
   "source": [
    "print(NBspec[0][0])\n",
    "print(NBspec[1][0])\n",
    "print(NBspec[2][0])\n",
    "\n",
    "for i in range(0,3):\n",
    "    print(NBspec[i][0])"
   ]
  },
  {
   "cell_type": "code",
   "execution_count": 71,
   "metadata": {},
   "outputs": [
    {
     "name": "stdout",
     "output_type": "stream",
     "text": [
      "[97, 98, 60, 50, 84, 51, 63, 50, 84, 87, 56, 56, 83, 83, 50, 100, 92, 85, 90, 74, 53, 88, 81, 61, 79, 80, 91, 68, 55, 96, 86, 94, 71, 69, 68, 64, 66, 74, 98, 93, 74, 98, 63, 92, 94, 82, 76, 89, 57, 76]\n"
     ]
    }
   ],
   "source": [
    "import random\n",
    "\n",
    "stu1=list()\n",
    "\n",
    "for i in range(50):\n",
    "    stu1.append(random.randint(50,100))\n",
    "\n",
    "print(stu1)"
   ]
  },
  {
   "cell_type": "code",
   "execution_count": 73,
   "metadata": {},
   "outputs": [
    {
     "data": {
      "text/plain": [
       "[[76, 98, 55, 76, 52],\n",
       " [94, 58, 66, 97, 88],\n",
       " [93, 93, 69, 85, 99],\n",
       " [76, 98, 59, 82, 54],\n",
       " [69, 67, 62, 63, 92],\n",
       " [92, 59, 78, 63, 88],\n",
       " [53, 70, 93, 51, 58],\n",
       " [56, 89, 84, 57, 67],\n",
       " [95, 64, 66, 76, 92],\n",
       " [96, 82, 79, 71, 52],\n",
       " [90, 81, 74, 79, 81],\n",
       " [89, 58, 82, 72, 87],\n",
       " [83, 97, 53, 52, 60],\n",
       " [99, 89, 76, 72, 100],\n",
       " [58, 67, 51, 95, 85],\n",
       " [66, 50, 85, 83, 92],\n",
       " [94, 73, 71, 60, 85],\n",
       " [67, 60, 78, 69, 89],\n",
       " [86, 92, 85, 84, 78],\n",
       " [53, 89, 92, 55, 56],\n",
       " [52, 100, 55, 100, 80],\n",
       " [76, 61, 51, 73, 97],\n",
       " [60, 75, 68, 58, 53],\n",
       " [79, 89, 82, 79, 93],\n",
       " [96, 57, 57, 97, 66],\n",
       " [99, 71, 51, 74, 69],\n",
       " [99, 99, 64, 84, 93],\n",
       " [93, 95, 75, 72, 77],\n",
       " [80, 68, 64, 60, 65],\n",
       " [91, 87, 54, 56, 68],\n",
       " [94, 97, 68, 65, 76],\n",
       " [84, 86, 50, 87, 80],\n",
       " [69, 99, 82, 96, 98],\n",
       " [93, 82, 60, 75, 87],\n",
       " [80, 86, 68, 81, 52],\n",
       " [82, 61, 50, 84, 87],\n",
       " [76, 81, 91, 81, 90],\n",
       " [94, 59, 60, 67, 61],\n",
       " [55, 72, 90, 54, 56],\n",
       " [96, 89, 97, 92, 84],\n",
       " [71, 63, 62, 93, 54],\n",
       " [68, 88, 72, 94, 74],\n",
       " [81, 98, 85, 76, 69],\n",
       " [79, 66, 74, 65, 95],\n",
       " [68, 61, 98, 80, 70],\n",
       " [85, 56, 96, 66, 61],\n",
       " [98, 59, 74, 50, 53],\n",
       " [71, 56, 80, 77, 60],\n",
       " [65, 54, 67, 74, 82],\n",
       " [57, 80, 70, 66, 84]]"
      ]
     },
     "execution_count": 73,
     "metadata": {},
     "output_type": "execute_result"
    }
   ],
   "source": [
    "students=[]\n",
    "for _ in range(50):\n",
    "    stu=list()\n",
    "    for _ in range(5):\n",
    "        stu.append(random.randint(50,100))\n",
    "    students.append(stu)\n",
    "students"
   ]
  }
 ],
 "metadata": {
  "kernelspec": {
   "display_name": "Python 3",
   "language": "python",
   "name": "python3"
  },
  "language_info": {
   "codemirror_mode": {
    "name": "ipython",
    "version": 3
   },
   "file_extension": ".py",
   "mimetype": "text/x-python",
   "name": "python",
   "nbconvert_exporter": "python",
   "pygments_lexer": "ipython3",
   "version": "3.10.8"
  },
  "orig_nbformat": 4
 },
 "nbformat": 4,
 "nbformat_minor": 2
}
